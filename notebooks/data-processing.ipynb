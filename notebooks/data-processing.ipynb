{
 "cells": [
  {
   "cell_type": "markdown",
   "id": "483f7ce7",
   "metadata": {},
   "source": [
    "# Exploração Inicial e Processamento de Dados"
   ]
  },
  {
   "cell_type": "code",
   "execution_count": 3,
   "id": "41340082",
   "metadata": {},
   "outputs": [],
   "source": [
    "import pandas as pd\n",
    "import numpy as np"
   ]
  },
  {
   "cell_type": "markdown",
   "id": "e74061d8",
   "metadata": {},
   "source": [
    "# Pré-Processamento dos dados"
   ]
  },
  {
   "cell_type": "code",
   "execution_count": 4,
   "id": "6c822dbd",
   "metadata": {},
   "outputs": [
    {
     "data": {
      "application/vnd.microsoft.datawrangler.viewer.v0+json": {
       "columns": [
        {
         "name": "index",
         "rawType": "int64",
         "type": "integer"
        },
        {
         "name": "brand",
         "rawType": "object",
         "type": "string"
        },
        {
         "name": "processor_brand",
         "rawType": "object",
         "type": "string"
        },
        {
         "name": "processor_name",
         "rawType": "object",
         "type": "string"
        },
        {
         "name": "processor_gnrtn",
         "rawType": "object",
         "type": "string"
        },
        {
         "name": "ram_gb",
         "rawType": "object",
         "type": "string"
        },
        {
         "name": "ram_type",
         "rawType": "object",
         "type": "string"
        },
        {
         "name": "ssd",
         "rawType": "object",
         "type": "string"
        },
        {
         "name": "hdd",
         "rawType": "object",
         "type": "string"
        },
        {
         "name": "os",
         "rawType": "object",
         "type": "string"
        },
        {
         "name": "os_bit",
         "rawType": "object",
         "type": "string"
        },
        {
         "name": "graphic_card_gb",
         "rawType": "object",
         "type": "string"
        },
        {
         "name": "weight",
         "rawType": "object",
         "type": "string"
        },
        {
         "name": "warranty",
         "rawType": "object",
         "type": "string"
        },
        {
         "name": "Touchscreen",
         "rawType": "object",
         "type": "string"
        },
        {
         "name": "msoffice",
         "rawType": "object",
         "type": "string"
        },
        {
         "name": "Price",
         "rawType": "int64",
         "type": "integer"
        },
        {
         "name": "rating",
         "rawType": "object",
         "type": "string"
        },
        {
         "name": "Number of Ratings",
         "rawType": "int64",
         "type": "integer"
        },
        {
         "name": "Number of Reviews",
         "rawType": "int64",
         "type": "integer"
        }
       ],
       "ref": "9f988b89-e68f-4a94-bcb2-3f65a3d1cdaf",
       "rows": [
        [
         "0",
         "ASUS",
         "Intel",
         "Core i3",
         "10th",
         "4 GB",
         "DDR4",
         "0 GB",
         "1024 GB",
         "Windows",
         "64-bit",
         "0 GB",
         "Casual",
         "No warranty",
         "No",
         "No",
         "2321",
         "2 stars",
         "3",
         "0"
        ],
        [
         "1",
         "Lenovo",
         "Intel",
         "Core i3",
         "10th",
         "4 GB",
         "DDR4",
         "0 GB",
         "1024 GB",
         "Windows",
         "64-bit",
         "0 GB",
         "Casual",
         "No warranty",
         "No",
         "No",
         "2613",
         "3 stars",
         "65",
         "5"
        ],
        [
         "2",
         "Lenovo",
         "Intel",
         "Core i3",
         "10th",
         "4 GB",
         "DDR4",
         "0 GB",
         "1024 GB",
         "Windows",
         "64-bit",
         "0 GB",
         "Casual",
         "No warranty",
         "No",
         "No",
         "2680",
         "3 stars",
         "8",
         "1"
        ],
        [
         "3",
         "ASUS",
         "Intel",
         "Core i5",
         "10th",
         "8 GB",
         "DDR4",
         "512 GB",
         "0 GB",
         "Windows",
         "32-bit",
         "2 GB",
         "Casual",
         "No warranty",
         "No",
         "No",
         "4689",
         "3 stars",
         "0",
         "0"
        ],
        [
         "4",
         "ASUS",
         "Intel",
         "Celeron Dual",
         "Not Available",
         "4 GB",
         "DDR4",
         "0 GB",
         "512 GB",
         "Windows",
         "64-bit",
         "0 GB",
         "Casual",
         "No warranty",
         "No",
         "No",
         "1808",
         "3 stars",
         "0",
         "0"
        ]
       ],
       "shape": {
        "columns": 19,
        "rows": 5
       }
      },
      "text/html": [
       "<div>\n",
       "<style scoped>\n",
       "    .dataframe tbody tr th:only-of-type {\n",
       "        vertical-align: middle;\n",
       "    }\n",
       "\n",
       "    .dataframe tbody tr th {\n",
       "        vertical-align: top;\n",
       "    }\n",
       "\n",
       "    .dataframe thead th {\n",
       "        text-align: right;\n",
       "    }\n",
       "</style>\n",
       "<table border=\"1\" class=\"dataframe\">\n",
       "  <thead>\n",
       "    <tr style=\"text-align: right;\">\n",
       "      <th></th>\n",
       "      <th>brand</th>\n",
       "      <th>processor_brand</th>\n",
       "      <th>processor_name</th>\n",
       "      <th>processor_gnrtn</th>\n",
       "      <th>ram_gb</th>\n",
       "      <th>ram_type</th>\n",
       "      <th>ssd</th>\n",
       "      <th>hdd</th>\n",
       "      <th>os</th>\n",
       "      <th>os_bit</th>\n",
       "      <th>graphic_card_gb</th>\n",
       "      <th>weight</th>\n",
       "      <th>warranty</th>\n",
       "      <th>Touchscreen</th>\n",
       "      <th>msoffice</th>\n",
       "      <th>Price</th>\n",
       "      <th>rating</th>\n",
       "      <th>Number of Ratings</th>\n",
       "      <th>Number of Reviews</th>\n",
       "    </tr>\n",
       "  </thead>\n",
       "  <tbody>\n",
       "    <tr>\n",
       "      <th>0</th>\n",
       "      <td>ASUS</td>\n",
       "      <td>Intel</td>\n",
       "      <td>Core i3</td>\n",
       "      <td>10th</td>\n",
       "      <td>4 GB</td>\n",
       "      <td>DDR4</td>\n",
       "      <td>0 GB</td>\n",
       "      <td>1024 GB</td>\n",
       "      <td>Windows</td>\n",
       "      <td>64-bit</td>\n",
       "      <td>0 GB</td>\n",
       "      <td>Casual</td>\n",
       "      <td>No warranty</td>\n",
       "      <td>No</td>\n",
       "      <td>No</td>\n",
       "      <td>2321</td>\n",
       "      <td>2 stars</td>\n",
       "      <td>3</td>\n",
       "      <td>0</td>\n",
       "    </tr>\n",
       "    <tr>\n",
       "      <th>1</th>\n",
       "      <td>Lenovo</td>\n",
       "      <td>Intel</td>\n",
       "      <td>Core i3</td>\n",
       "      <td>10th</td>\n",
       "      <td>4 GB</td>\n",
       "      <td>DDR4</td>\n",
       "      <td>0 GB</td>\n",
       "      <td>1024 GB</td>\n",
       "      <td>Windows</td>\n",
       "      <td>64-bit</td>\n",
       "      <td>0 GB</td>\n",
       "      <td>Casual</td>\n",
       "      <td>No warranty</td>\n",
       "      <td>No</td>\n",
       "      <td>No</td>\n",
       "      <td>2613</td>\n",
       "      <td>3 stars</td>\n",
       "      <td>65</td>\n",
       "      <td>5</td>\n",
       "    </tr>\n",
       "    <tr>\n",
       "      <th>2</th>\n",
       "      <td>Lenovo</td>\n",
       "      <td>Intel</td>\n",
       "      <td>Core i3</td>\n",
       "      <td>10th</td>\n",
       "      <td>4 GB</td>\n",
       "      <td>DDR4</td>\n",
       "      <td>0 GB</td>\n",
       "      <td>1024 GB</td>\n",
       "      <td>Windows</td>\n",
       "      <td>64-bit</td>\n",
       "      <td>0 GB</td>\n",
       "      <td>Casual</td>\n",
       "      <td>No warranty</td>\n",
       "      <td>No</td>\n",
       "      <td>No</td>\n",
       "      <td>2680</td>\n",
       "      <td>3 stars</td>\n",
       "      <td>8</td>\n",
       "      <td>1</td>\n",
       "    </tr>\n",
       "    <tr>\n",
       "      <th>3</th>\n",
       "      <td>ASUS</td>\n",
       "      <td>Intel</td>\n",
       "      <td>Core i5</td>\n",
       "      <td>10th</td>\n",
       "      <td>8 GB</td>\n",
       "      <td>DDR4</td>\n",
       "      <td>512 GB</td>\n",
       "      <td>0 GB</td>\n",
       "      <td>Windows</td>\n",
       "      <td>32-bit</td>\n",
       "      <td>2 GB</td>\n",
       "      <td>Casual</td>\n",
       "      <td>No warranty</td>\n",
       "      <td>No</td>\n",
       "      <td>No</td>\n",
       "      <td>4689</td>\n",
       "      <td>3 stars</td>\n",
       "      <td>0</td>\n",
       "      <td>0</td>\n",
       "    </tr>\n",
       "    <tr>\n",
       "      <th>4</th>\n",
       "      <td>ASUS</td>\n",
       "      <td>Intel</td>\n",
       "      <td>Celeron Dual</td>\n",
       "      <td>Not Available</td>\n",
       "      <td>4 GB</td>\n",
       "      <td>DDR4</td>\n",
       "      <td>0 GB</td>\n",
       "      <td>512 GB</td>\n",
       "      <td>Windows</td>\n",
       "      <td>64-bit</td>\n",
       "      <td>0 GB</td>\n",
       "      <td>Casual</td>\n",
       "      <td>No warranty</td>\n",
       "      <td>No</td>\n",
       "      <td>No</td>\n",
       "      <td>1808</td>\n",
       "      <td>3 stars</td>\n",
       "      <td>0</td>\n",
       "      <td>0</td>\n",
       "    </tr>\n",
       "  </tbody>\n",
       "</table>\n",
       "</div>"
      ],
      "text/plain": [
       "    brand processor_brand processor_name processor_gnrtn ram_gb ram_type  \\\n",
       "0    ASUS           Intel        Core i3            10th   4 GB     DDR4   \n",
       "1  Lenovo           Intel        Core i3            10th   4 GB     DDR4   \n",
       "2  Lenovo           Intel        Core i3            10th   4 GB     DDR4   \n",
       "3    ASUS           Intel        Core i5            10th   8 GB     DDR4   \n",
       "4    ASUS           Intel   Celeron Dual   Not Available   4 GB     DDR4   \n",
       "\n",
       "      ssd      hdd       os  os_bit graphic_card_gb  weight     warranty  \\\n",
       "0    0 GB  1024 GB  Windows  64-bit            0 GB  Casual  No warranty   \n",
       "1    0 GB  1024 GB  Windows  64-bit            0 GB  Casual  No warranty   \n",
       "2    0 GB  1024 GB  Windows  64-bit            0 GB  Casual  No warranty   \n",
       "3  512 GB     0 GB  Windows  32-bit            2 GB  Casual  No warranty   \n",
       "4    0 GB   512 GB  Windows  64-bit            0 GB  Casual  No warranty   \n",
       "\n",
       "  Touchscreen msoffice  Price   rating  Number of Ratings  Number of Reviews  \n",
       "0          No       No   2321  2 stars                  3                  0  \n",
       "1          No       No   2613  3 stars                 65                  5  \n",
       "2          No       No   2680  3 stars                  8                  1  \n",
       "3          No       No   4689  3 stars                  0                  0  \n",
       "4          No       No   1808  3 stars                  0                  0  "
      ]
     },
     "execution_count": 4,
     "metadata": {},
     "output_type": "execute_result"
    }
   ],
   "source": [
    "df = pd.read_csv('../data/raw/laptop-price-brl.csv')\n",
    "df.head()"
   ]
  },
  {
   "cell_type": "code",
   "execution_count": null,
   "id": "139216d4",
   "metadata": {},
   "outputs": [],
   "source": [
    "df_transformed = df.copy()\n",
    "\n",
    "df_transformed ['ram_gb'] = pd.to_numeric(df_transformed['ram_gb'], errors='coerce').fillna(0).astype(np.int64)\n",
    "df_transformed ['hdd'] = pd.to_numeric(df_transformed['hdd'], errors='coerce').fillna(0).astype(np.int64)\n",
    "df_transformed ['ssd'] = pd. to_numeric(df_transformed['ssd'], errors='coerce'). fillna(0).astype(np.int64)\n",
    "df_transformed ['graphic_card_gb'] = pd. to_numeric(df_transformed['graphic_card_gb'], errors='coerce').fillna(0).astype(np.int64)\n",
    "df_transformed ['warranty'] = pd.to_numeric(df_transformed['warranty'], errors='coerce').fillna(0).astype(np.int64)\n",
    "df_transformed ['price'] = pd.to_numeric(df_transformed['price'], errors='coerce').fillna(0).astype(np.float64)\n",
    "df_transformed ['touchscreen'] = pd.to_numeric(df_transformed['touchscreen'], errors='coerce').fillna(0).astype(np.int64)\n",
    "df_transformed ['price'] = pd.to_numeric(df_transformed['price'], errors='coerce'). fillna(0).astype(np.int64)"
   ]
  }
 ],
 "metadata": {
  "kernelspec": {
   "display_name": ".venv",
   "language": "python",
   "name": "python3"
  },
  "language_info": {
   "codemirror_mode": {
    "name": "ipython",
    "version": 3
   },
   "file_extension": ".py",
   "mimetype": "text/x-python",
   "name": "python",
   "nbconvert_exporter": "python",
   "pygments_lexer": "ipython3",
   "version": "3.12.2"
  }
 },
 "nbformat": 4,
 "nbformat_minor": 5
}
